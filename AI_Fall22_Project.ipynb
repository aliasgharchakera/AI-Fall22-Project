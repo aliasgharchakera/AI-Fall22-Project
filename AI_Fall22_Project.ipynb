{
  "cells": [
    {
      "cell_type": "markdown",
      "metadata": {
        "id": "view-in-github",
        "colab_type": "text"
      },
      "source": [
        "<a href=\"https://colab.research.google.com/github/princebiscuits/AI-Fall22-Project/blob/master/AI_Fall22_Project.ipynb\" target=\"_parent\"><img src=\"https://colab.research.google.com/assets/colab-badge.svg\" alt=\"Open In Colab\"/></a>"
      ]
    },
    {
      "cell_type": "markdown",
      "source": [
        "## __Misc__\n",
        " blocks not in use anymore"
      ],
      "metadata": {
        "id": "Fm7QO8_N5xrh"
      }
    },
    {
      "cell_type": "code",
      "source": [
        "from google.colab import drive\n",
        "drive.mount('/content/drive')\n",
        "!cp /content/drive/MyDrive/npy/bottleneck_features_test.npy /content/ -r\n",
        "!cp /content/drive/MyDrive/npy/bottleneck_features_validation.npy /content/ -r\n",
        "!cp /content/drive/MyDrive/npy/bottleneck_features_train.npy /content/ -r\n",
        "!cp '/content/drive/MyDrive/test images/' /content/ -r"
      ],
      "metadata": {
        "id": "RuzwHvaPuSVN",
        "colab": {
          "base_uri": "https://localhost:8080/"
        },
        "outputId": "f306e7dc-19bc-4236-a6fd-5e0d0fc5d1f7"
      },
      "execution_count": null,
      "outputs": [
        {
          "output_type": "stream",
          "name": "stdout",
          "text": [
            "Mounted at /content/drive\n"
          ]
        }
      ]
    },
    {
      "cell_type": "code",
      "source": [
        "from mlxtend.plotting import plot_confusion_matrix\n",
        "\n",
        "fig, ax = plot_confusion_matrix(conf_mat=cm, figsize=(6, 6), cmap=plt.cm.Greens, show_normed=True, show_absolute=False)\n",
        "plt.xlabel('Predictions', fontsize=18)\n",
        "plt.ylabel('Actuals', fontsize=18)\n",
        "plt.title('Confusion Matrix', fontsize=18)\n",
        "plt.show()"
      ],
      "metadata": {
        "id": "fS-ytIEks0U7"
      },
      "execution_count": null,
      "outputs": []
    },
    {
      "cell_type": "markdown",
      "metadata": {
        "id": "BL6Wj3ZaAMIO"
      },
      "source": [
        "## __Objective:__ Create a multiclass image classifier\n",
        "\n",
        "## __Purpose:__ Can be used to classify  species of animal\n",
        "\n",
        "### Use transfer learning and vgg16 model"
      ]
    },
    {
      "cell_type": "markdown",
      "source": [
        "### Imports and Paths"
      ],
      "metadata": {
        "id": "1qxETfJFcxFY"
      }
    },
    {
      "cell_type": "markdown",
      "metadata": {
        "id": "j-eYCdhiAMIW"
      },
      "source": [
        "#### importing necessary libraries"
      ]
    },
    {
      "cell_type": "code",
      "source": [
        "from google.colab import files"
      ],
      "metadata": {
        "id": "xoS1fiGZcLBq"
      },
      "execution_count": null,
      "outputs": []
    },
    {
      "cell_type": "code",
      "execution_count": null,
      "metadata": {
        "id": "xZPQ1HjeAMIZ"
      },
      "outputs": [],
      "source": [
        "import pandas as pd\n",
        "import numpy as np \n",
        "import itertools\n",
        "import keras\n",
        "from sklearn import metrics\n",
        "from sklearn.metrics import confusion_matrix\n",
        "from tensorflow.keras.utils import img_to_array, load_img\n",
        "from keras.preprocessing.image import ImageDataGenerator\n",
        "from keras.models import Sequential \n",
        "from keras import optimizers\n",
        "from keras.preprocessing import image\n",
        "from keras.layers import Dropout, Flatten, Dense  \n",
        "from keras import applications  \n",
        "from keras.utils.np_utils import to_categorical  \n",
        "import matplotlib.pyplot as plt \n",
        "import matplotlib.image as mpimg\n",
        "%matplotlib inline\n",
        "import math  \n",
        "import datetime\n",
        "import time"
      ]
    },
    {
      "cell_type": "markdown",
      "metadata": {
        "id": "9KKLfjEGAMIb"
      },
      "source": [
        "#### Loading up our image datasets"
      ]
    },
    {
      "cell_type": "code",
      "execution_count": null,
      "metadata": {
        "id": "n_0ix--gAMIb"
      },
      "outputs": [],
      "source": [
        "#Default dimensions\n",
        "img_width, img_height = 224, 224  \n",
        "   \n",
        "#Create a bottleneck file\n",
        "top_model_weights_path = 'bottleneck_fc_model.h5' \n",
        "\n",
        "# loading up our datasets\n",
        "train_data_dir = 'data/train'  \n",
        "validation_data_dir = 'data/validation'  \n",
        "test_data_dir = 'data/test'\n",
        "   \n",
        "# number of epochs to train top model  \n",
        "epochs = 7  \n",
        "# batch size used by flow_from_directory and predict_generator  \n",
        "batch_size = 50  "
      ]
    },
    {
      "cell_type": "code",
      "execution_count": null,
      "metadata": {
        "id": "GllRTIOeAMIe",
        "colab": {
          "base_uri": "https://localhost:8080/"
        },
        "outputId": "9645d0f1-fb77-4e8f-e18a-87fc4d5c4549"
      },
      "outputs": [
        {
          "output_type": "stream",
          "name": "stdout",
          "text": [
            "Downloading data from https://storage.googleapis.com/tensorflow/keras-applications/vgg16/vgg16_weights_tf_dim_ordering_tf_kernels_notop.h5\n",
            "58889256/58889256 [==============================] - 3s 0us/step\n"
          ]
        }
      ],
      "source": [
        "#Loading vgg16 model\n",
        "vgg16 = applications.VGG16(include_top=False, weights='imagenet') "
      ]
    },
    {
      "cell_type": "code",
      "execution_count": null,
      "metadata": {
        "id": "K7qj-mszAMIg"
      },
      "outputs": [],
      "source": [
        "datagen = ImageDataGenerator(rescale=1. / 255)  #needed to create the bottleneck .npy files"
      ]
    },
    {
      "cell_type": "markdown",
      "metadata": {
        "id": "NV6WYPSuAMIh"
      },
      "source": [
        "## Creation of weights/features with VGG16"
      ]
    },
    {
      "cell_type": "code",
      "execution_count": null,
      "metadata": {
        "id": "rk0AqV0AAMIi"
      },
      "outputs": [],
      "source": [
        "# Takes about 1.5 hour so storing as a npy file\n",
        "\n",
        "start = datetime.datetime.now()\n",
        "   \n",
        "generator = datagen.flow_from_directory(  \n",
        "     train_data_dir,  \n",
        "     target_size=(img_width, img_height),  \n",
        "     batch_size=batch_size,  \n",
        "     class_mode=None,  \n",
        "     shuffle=False)  \n",
        "   \n",
        "nb_train_samples = len(generator.filenames)  \n",
        "num_classes = len(generator.class_indices)  \n",
        "   \n",
        "predict_size_train = int(math.ceil(nb_train_samples / batch_size))  \n",
        "   \n",
        "bottleneck_features_train = vgg16.predict(generator, predict_size_train)  \n",
        "   \n",
        "np.save('bottleneck_features_train.npy', bottleneck_features_train)\n",
        "end= datetime.datetime.now()\n",
        "elapsed= end-start\n",
        "print ('Time: ', elapsed)"
      ]
    },
    {
      "cell_type": "code",
      "execution_count": null,
      "metadata": {
        "id": "9f9jZMXYAMIk"
      },
      "outputs": [],
      "source": [
        "print('-'*117)"
      ]
    },
    {
      "cell_type": "code",
      "execution_count": null,
      "metadata": {
        "id": "5Wvsy_aHAMIk"
      },
      "outputs": [],
      "source": [
        "# Takes about 20 mins so storing as a npy file\n",
        "\n",
        "start = datetime.datetime.now()\n",
        "generator = datagen.flow_from_directory(  \n",
        "     validation_data_dir,  \n",
        "     target_size=(img_width, img_height),  \n",
        "     batch_size=batch_size,  \n",
        "     class_mode=None,  \n",
        "     shuffle=False)  \n",
        "   \n",
        "nb_validation_samples = len(generator.filenames)  \n",
        "   \n",
        "predict_size_validation = int(math.ceil(nb_validation_samples / batch_size))  \n",
        "   \n",
        "bottleneck_features_validation = vgg16.predict(  \n",
        "     generator, predict_size_validation)  \n",
        "   \n",
        "np.save('bottleneck_features_validation.npy', bottleneck_features_validation) \n",
        "end= datetime.datetime.now()\n",
        "elapsed= end-start\n",
        "print ('Time: ', elapsed)"
      ]
    },
    {
      "cell_type": "code",
      "execution_count": null,
      "metadata": {
        "id": "SGFWGY3rAMIm"
      },
      "outputs": [],
      "source": [
        "print('-'*117)"
      ]
    },
    {
      "cell_type": "code",
      "execution_count": null,
      "metadata": {
        "id": "90MEkO-ZAMIn"
      },
      "outputs": [],
      "source": [
        "# Takes about 15 mins so storing as a npy file\n",
        "\n",
        "start = datetime.datetime.now()\n",
        "generator = datagen.flow_from_directory(  \n",
        "     test_data_dir,  \n",
        "     target_size=(img_width, img_height),  \n",
        "     batch_size=batch_size,  \n",
        "     class_mode=None,  \n",
        "     shuffle=False)  \n",
        "   \n",
        "nb_test_samples = len(generator.filenames)  \n",
        "   \n",
        "predict_size_test = int(math.ceil(nb_test_samples / batch_size))  \n",
        "   \n",
        "bottleneck_features_test = vgg16.predict(  \n",
        "     generator, predict_size_test)  \n",
        "   \n",
        "np.save('bottleneck_features_test.npy', bottleneck_features_test) \n",
        "end= datetime.datetime.now()\n",
        "elapsed= end-start\n",
        "print ('Time: ', elapsed)"
      ]
    },
    {
      "cell_type": "markdown",
      "metadata": {
        "id": "WQRWEKr9AMIo"
      },
      "source": [
        "# Loading training, validation and testing data"
      ]
    },
    {
      "cell_type": "code",
      "execution_count": null,
      "metadata": {
        "id": "YgqrRz7BAMIp",
        "colab": {
          "base_uri": "https://localhost:8080/"
        },
        "outputId": "7b70918c-3226-4e9a-9229-f1b57d626b06"
      },
      "outputs": [
        {
          "output_type": "stream",
          "name": "stdout",
          "text": [
            "Found 13412 images belonging to 6 classes.\n"
          ]
        }
      ],
      "source": [
        "#training data\n",
        "generator_top = datagen.flow_from_directory(  \n",
        "         train_data_dir,  \n",
        "         target_size=(img_width, img_height),  \n",
        "         batch_size=batch_size,  \n",
        "         class_mode='categorical',  \n",
        "         shuffle=False)  \n",
        "   \n",
        "nb_train_samples = len(generator_top.filenames)  \n",
        "num_classes = len(generator_top.class_indices)  \n",
        "   \n",
        "# load the bottleneck features saved earlier  \n",
        "train_data = np.load('bottleneck_features_train.npy')  \n",
        "   \n",
        "# get the class lebels for the training data, in the original order  \n",
        "train_labels = generator_top.classes  \n",
        "   \n",
        "# convert the training labels to categorical vectors  \n",
        "train_labels = to_categorical(train_labels, num_classes=num_classes) "
      ]
    },
    {
      "cell_type": "code",
      "execution_count": null,
      "metadata": {
        "id": "OluTAicQAMIp",
        "colab": {
          "base_uri": "https://localhost:8080/"
        },
        "outputId": "596d7205-e0cb-4d92-9146-c95f514a747e"
      },
      "outputs": [
        {
          "output_type": "stream",
          "name": "stdout",
          "text": [
            "Found 2549 images belonging to 6 classes.\n"
          ]
        }
      ],
      "source": [
        "#validation data\n",
        "generator_top = datagen.flow_from_directory(  \n",
        "         validation_data_dir,  \n",
        "         target_size=(img_width, img_height),  \n",
        "         batch_size=batch_size,  \n",
        "         class_mode=None,  \n",
        "         shuffle=False)  \n",
        "   \n",
        "nb_validation_samples = len(generator_top.filenames)  \n",
        "   \n",
        "validation_data = np.load('bottleneck_features_validation.npy')  \n",
        "   \n",
        "\n",
        "validation_labels = generator_top.classes  \n",
        "validation_labels = to_categorical(validation_labels, num_classes=num_classes)  "
      ]
    },
    {
      "cell_type": "code",
      "execution_count": null,
      "metadata": {
        "id": "_9dzOzoIAMIq",
        "colab": {
          "base_uri": "https://localhost:8080/"
        },
        "outputId": "044c6c01-a677-493a-a1bc-be5f4ac8337c"
      },
      "outputs": [
        {
          "output_type": "stream",
          "name": "stdout",
          "text": [
            "Found 1845 images belonging to 6 classes.\n"
          ]
        }
      ],
      "source": [
        "#testing data\n",
        "generator_top = datagen.flow_from_directory(  \n",
        "         test_data_dir,  \n",
        "         target_size=(img_width, img_height),  \n",
        "         batch_size=batch_size,  \n",
        "         class_mode=None,  \n",
        "         shuffle=False)  \n",
        "   \n",
        "nb_test_samples = len(generator_top.filenames)  \n",
        "   \n",
        "test_data = np.load('bottleneck_features_test.npy')  \n",
        "   \n",
        "\n",
        "test_labels = generator_top.classes  \n",
        "test_labels = to_categorical(test_labels, num_classes=num_classes)"
      ]
    },
    {
      "cell_type": "markdown",
      "metadata": {
        "id": "UMxQDUk8AMIq"
      },
      "source": [
        "# Training of model"
      ]
    },
    {
      "cell_type": "code",
      "execution_count": null,
      "metadata": {
        "id": "9-3snL-gAMIr",
        "colab": {
          "base_uri": "https://localhost:8080/"
        },
        "outputId": "03b3f4fd-62f6-45b1-a3c3-4f85a0a7e9d4"
      },
      "outputs": [
        {
          "output_type": "stream",
          "name": "stderr",
          "text": [
            "/usr/local/lib/python3.8/dist-packages/keras/optimizers/optimizer_v2/rmsprop.py:135: UserWarning: The `lr` argument is deprecated, use `learning_rate` instead.\n",
            "  super(RMSprop, self).__init__(name, **kwargs)\n"
          ]
        },
        {
          "output_type": "stream",
          "name": "stdout",
          "text": [
            "Epoch 1/7\n",
            "269/269 [==============================] - 15s 48ms/step - loss: 0.7388 - acc: 0.7380 - val_loss: 0.4065 - val_acc: 0.8682\n",
            "Epoch 2/7\n",
            "269/269 [==============================] - 11s 42ms/step - loss: 0.4147 - acc: 0.8597 - val_loss: 0.3331 - val_acc: 0.8929\n",
            "Epoch 3/7\n",
            "269/269 [==============================] - 11s 41ms/step - loss: 0.3335 - acc: 0.8908 - val_loss: 0.3277 - val_acc: 0.8913\n",
            "Epoch 4/7\n",
            "269/269 [==============================] - 11s 41ms/step - loss: 0.2751 - acc: 0.9091 - val_loss: 0.2678 - val_acc: 0.9078\n",
            "Epoch 5/7\n",
            "269/269 [==============================] - 13s 48ms/step - loss: 0.2442 - acc: 0.9187 - val_loss: 0.2647 - val_acc: 0.9121\n",
            "Epoch 6/7\n",
            "269/269 [==============================] - 13s 46ms/step - loss: 0.2143 - acc: 0.9283 - val_loss: 0.2557 - val_acc: 0.9219\n",
            "Epoch 7/7\n",
            "269/269 [==============================] - 11s 42ms/step - loss: 0.1883 - acc: 0.9371 - val_loss: 0.2462 - val_acc: 0.9227\n",
            "51/51 [==============================] - 1s 13ms/step - loss: 0.2462 - acc: 0.9227\n",
            "[INFO] accuracy: 92.27%\n",
            "[INFO] Loss: 0.2461557388305664\n",
            "Time:  0:02:24.477200\n"
          ]
        }
      ],
      "source": [
        "start = datetime.datetime.now()\n",
        "model = Sequential()  \n",
        "model.add(Flatten(input_shape=train_data.shape[1:]))  \n",
        "model.add(Dense(100, activation=keras.layers.LeakyReLU(alpha=0.3)))  \n",
        "model.add(Dropout(0.5))  \n",
        "model.add(Dense(50, activation=keras.layers.LeakyReLU(alpha=0.3)))  \n",
        "model.add(Dropout(0.3)) \n",
        "model.add(Dense(num_classes, activation='softmax'))  \n",
        "\n",
        "model.compile(loss='categorical_crossentropy',\n",
        "              optimizer=optimizers.RMSprop(lr=1e-4),\n",
        "              metrics=['acc'])  \n",
        "\n",
        "history = model.fit(train_data, train_labels,  \n",
        "      epochs=7,\n",
        "      batch_size=batch_size,  \n",
        "      validation_data=(validation_data, validation_labels))  \n",
        "\n",
        "model.save_weights(top_model_weights_path)  \n",
        "\n",
        "(eval_loss, eval_accuracy) = model.evaluate(  \n",
        " validation_data, validation_labels, batch_size=batch_size, verbose=1)\n",
        "\n",
        "print(\"[INFO] accuracy: {:.2f}%\".format(eval_accuracy * 100))  \n",
        "print(\"[INFO] Loss: {}\".format(eval_loss))  \n",
        "end= datetime.datetime.now()\n",
        "elapsed= end-start\n",
        "print ('Time: ', elapsed)"
      ]
    },
    {
      "cell_type": "code",
      "execution_count": null,
      "metadata": {
        "id": "Gc8R6ijEAMIr",
        "colab": {
          "base_uri": "https://localhost:8080/"
        },
        "outputId": "a7dc36f3-be66-4a07-b775-4b9a3c9acdf9"
      },
      "outputs": [
        {
          "output_type": "stream",
          "name": "stdout",
          "text": [
            "Model: \"sequential\"\n",
            "_________________________________________________________________\n",
            " Layer (type)                Output Shape              Param #   \n",
            "=================================================================\n",
            " flatten (Flatten)           (None, 25088)             0         \n",
            "                                                                 \n",
            " dense (Dense)               (None, 100)               2508900   \n",
            "                                                                 \n",
            " dropout (Dropout)           (None, 100)               0         \n",
            "                                                                 \n",
            " dense_1 (Dense)             (None, 50)                5050      \n",
            "                                                                 \n",
            " dropout_1 (Dropout)         (None, 50)                0         \n",
            "                                                                 \n",
            " dense_2 (Dense)             (None, 6)                 306       \n",
            "                                                                 \n",
            "=================================================================\n",
            "Total params: 2,514,256\n",
            "Trainable params: 2,514,256\n",
            "Non-trainable params: 0\n",
            "_________________________________________________________________\n"
          ]
        }
      ],
      "source": [
        "#Model summary\n",
        "model.summary()"
      ]
    },
    {
      "cell_type": "code",
      "execution_count": null,
      "metadata": {
        "id": "egcM1YPDAMIt",
        "colab": {
          "base_uri": "https://localhost:8080/",
          "height": 312
        },
        "outputId": "0b1e6770-89ee-4d7b-d5ee-d52fed22da33"
      },
      "outputs": [
        {
          "output_type": "display_data",
          "data": {
            "text/plain": [
              "<Figure size 432x288 with 1 Axes>"
            ],
            "image/png": "[encoded data removed]"
          },
          "metadata": {
            "needs_background": "light"
          }
        },
        {
          "output_type": "display_data",
          "data": {
            "text/plain": [
              "<Figure size 432x288 with 0 Axes>"
            ]
          },
          "metadata": {}
        }
      ],
      "source": [
        "#Graphing our training and validation\n",
        "acc = history.history['acc']\n",
        "val_acc = history.history['val_acc']\n",
        "loss = history.history['loss']\n",
        "val_loss = history.history['val_loss']\n",
        "epochs = range(len(acc))\n",
        "plt.plot(epochs, acc, 'r', label='Training acc')\n",
        "plt.plot(epochs, val_acc, 'b', label='Validation acc')\n",
        "plt.title('Training and validation accuracy')\n",
        "plt.ylabel('accuracy')  \n",
        "plt.xlabel('epoch')\n",
        "plt.legend()\n",
        "plt.figure()\n",
        "# plt.plot(epochs, loss, 'r', label='Training loss')\n",
        "# plt.plot(epochs, val_loss, 'b', label='Validation loss')\n",
        "# plt.title('Training and validation loss')\n",
        "# plt.ylabel('loss')  \n",
        "# plt.xlabel('epoch')\n",
        "# plt.legend()\n",
        "plt.show()"
      ]
    },
    {
      "cell_type": "markdown",
      "metadata": {
        "id": "i9ZrSWWMAMIu"
      },
      "source": [
        "## Model Evaluation on Testing Set"
      ]
    },
    {
      "cell_type": "code",
      "execution_count": null,
      "metadata": {
        "scrolled": true,
        "id": "inzpFlDcAMIu",
        "colab": {
          "base_uri": "https://localhost:8080/"
        },
        "outputId": "7f355a96-9281-4a26-ce07-5e854a41a12f"
      },
      "outputs": [
        {
          "output_type": "stream",
          "name": "stdout",
          "text": [
            "58/58 [==============================] - 1s 9ms/step - loss: 0.2321 - acc: 0.9241\n"
          ]
        },
        {
          "output_type": "execute_result",
          "data": {
            "text/plain": [
              "[0.23205307126045227, 0.924119234085083]"
            ]
          },
          "metadata": {},
          "execution_count": 27
        }
      ],
      "source": [
        "model.evaluate(test_data, test_labels)"
      ]
    },
    {
      "cell_type": "markdown",
      "metadata": {
        "id": "fw4qhV3qAMIv"
      },
      "source": [
        "## Classification metrics and Confusion Matrix"
      ]
    },
    {
      "cell_type": "markdown",
      "metadata": {
        "id": "V8qSXGPOAMIv"
      },
      "source": [
        "### Classification Metrics"
      ]
    },
    {
      "cell_type": "code",
      "execution_count": null,
      "metadata": {
        "scrolled": false,
        "id": "6tIRlUCWAMIw",
        "colab": {
          "base_uri": "https://localhost:8080/"
        },
        "outputId": "1dd18910-8e01-4a67-b420-9b9618210e48"
      },
      "outputs": [
        {
          "output_type": "stream",
          "name": "stdout",
          "text": [
            "58/58 [==============================] - 1s 9ms/step\n",
            "              precision    recall  f1-score   support\n",
            "\n",
            " butterflies       0.98      0.88      0.93       371\n",
            "    chickens       0.89      0.89      0.89       203\n",
            "   elephants       0.89      0.89      0.89       152\n",
            "      horses       0.98      0.93      0.95       472\n",
            "     spiders       0.90      0.96      0.93       403\n",
            "   squirrels       0.92      0.91      0.92       244\n",
            "\n",
            "   micro avg       0.94      0.92      0.93      1845\n",
            "   macro avg       0.93      0.91      0.92      1845\n",
            "weighted avg       0.94      0.92      0.93      1845\n",
            " samples avg       0.92      0.92      0.92      1845\n",
            "\n"
          ]
        },
        {
          "output_type": "stream",
          "name": "stderr",
          "text": [
            "/usr/local/lib/python3.8/dist-packages/sklearn/metrics/_classification.py:1318: UndefinedMetricWarning: Precision and F-score are ill-defined and being set to 0.0 in samples with no predicted labels. Use `zero_division` parameter to control this behavior.\n",
            "  _warn_prf(average, modifier, msg_start, len(result))\n"
          ]
        }
      ],
      "source": [
        "animals = ['butterflies', 'chickens', 'elephants', 'horses', 'spiders', 'squirrels']\n",
        "preds = np.round(model.predict(test_data),0) \n",
        "classification_metrics = metrics.classification_report(test_labels, preds, target_names=animals )\n",
        "print(classification_metrics)"
      ]
    },
    {
      "cell_type": "markdown",
      "metadata": {
        "id": "7GuEOmfuAMIw"
      },
      "source": [
        "### Confusion Matrix"
      ]
    },
    {
      "cell_type": "code",
      "execution_count": null,
      "metadata": {
        "id": "_zcwn69PAMIw"
      },
      "outputs": [],
      "source": [
        "# converting from dataframe to numpy\n",
        "categorical_test_labels = pd.DataFrame(test_labels).idxmax(axis=1)\n",
        "categorical_preds = pd.DataFrame(preds).idxmax(axis=1)\n",
        "# print(categorical_preds)"
      ]
    },
    {
      "cell_type": "code",
      "execution_count": null,
      "metadata": {
        "id": "3mKBlwE_AMIx"
      },
      "outputs": [],
      "source": [
        "cm= confusion_matrix(categorical_test_labels, categorical_preds)"
      ]
    },
    {
      "cell_type": "code",
      "execution_count": null,
      "metadata": {
        "id": "yb2iHsn3AMIx"
      },
      "outputs": [],
      "source": [
        "#To get better visual of the confusion matrix:\n",
        "def plot_confusion_matrix(cm, classes,\n",
        "             normalize=False,\n",
        "             title='Confusion matrix',\n",
        "             cmap=plt.cm.Blues):\n",
        "    #Add Normalization Option\n",
        "    '''prints pretty confusion metric with normalization option '''\n",
        "    if normalize:\n",
        "        cm = cm.astype('float') / cm.sum(axis=1)[:, np.newaxis]\n",
        "        print(\"Normalized confusion matrix\")\n",
        "    else:\n",
        "        print('Confusion matrix, without normalization')\n",
        "    \n",
        "#     print(cm)\n",
        "    \n",
        "    plt.imshow(cm, interpolation='nearest', cmap=cmap)\n",
        "    plt.title(title)\n",
        "    plt.colorbar()\n",
        "    tick_marks = np.arange(len(classes))\n",
        "    plt.xticks(tick_marks, classes, rotation=45)\n",
        "    plt.yticks(tick_marks, classes)\n",
        "    \n",
        "    fmt = '.2f' if normalize else 'd'\n",
        "    thresh = cm.max() / 2.\n",
        "    for i, j in itertools.product(range(cm.shape[0]), range(cm.shape[1])):\n",
        "        plt.text(j, i, format(cm[i, j], fmt), horizontalalignment=\"center\", color=\"white\" if cm[i, j] > thresh else \"black\")\n",
        "    \n",
        "    plt.tight_layout()\n",
        "    plt.ylabel('True label')\n",
        "    plt.xlabel('Predicted label')\n"
      ]
    },
    {
      "cell_type": "code",
      "execution_count": null,
      "metadata": {
        "id": "Uc884xvGAMIx"
      },
      "outputs": [],
      "source": [
        "plot_confusion_matrix(cm, animals)"
      ]
    },
    {
      "cell_type": "code",
      "execution_count": null,
      "metadata": {
        "id": "3xOtldYBAMIx",
        "colab": {
          "base_uri": "https://localhost:8080/",
          "height": 328
        },
        "outputId": "110eeb3a-b7a8-4cee-891f-b36b045dcfbd"
      },
      "outputs": [
        {
          "output_type": "stream",
          "name": "stdout",
          "text": [
            "Normalized confusion matrix\n"
          ]
        },
        {
          "output_type": "display_data",
          "data": {
            "text/plain": [
              "<Figure size 432x288 with 2 Axes>"
            ],
            "image/png": "[encoded data removed]"
          },
          "metadata": {
            "needs_background": "light"
          }
        }
      ],
      "source": [
        "\n",
        "plot_confusion_matrix(cm, \n",
        "                      animals,\n",
        "                     normalize=True)"
      ]
    },
    {
      "cell_type": "markdown",
      "metadata": {
        "id": "O3_O1rIxAMIx"
      },
      "source": [
        "## Testing images on model"
      ]
    },
    {
      "cell_type": "code",
      "execution_count": null,
      "metadata": {
        "id": "yu3qtmRfAMIy"
      },
      "outputs": [],
      "source": [
        "def read_image(file_path):\n",
        "    print(\"[INFO] loading and preprocessing image...\")  \n",
        "    image = load_img(file_path, target_size=(224, 224))  \n",
        "    image = img_to_array(image)  \n",
        "    image = np.expand_dims(image, axis=0)\n",
        "    image /= 255.  \n",
        "    return image"
      ]
    },
    {
      "cell_type": "code",
      "execution_count": null,
      "metadata": {
        "id": "KosUNiUMAMIy"
      },
      "outputs": [],
      "source": [
        "def test_single_image(path):\n",
        "    image = read_image(path)\n",
        "    time.sleep(.5)\n",
        "    bt_prediction = vgg16.predict(image)  \n",
        "    preds = model.predict(bt_prediction)\n",
        "    for idx, animal, x in zip(range(0,6), animals , preds[0]):\n",
        "        print(\"ID: {}, Label: {} {}%\".format(idx, animal, round(x*100,2) ))\n",
        "    print('Final Decision:')\n",
        "    time.sleep(.5)\n",
        "    for x in range(3):\n",
        "        print('.'*(x+1))\n",
        "        time.sleep(.2)\n",
        "    class_predicted = np.argmax(model.predict(bt_prediction), axis=-1)\n",
        "    class_dictionary = generator_top.class_indices  \n",
        "    inv_map = {v: k for k, v in class_dictionary.items()}  \n",
        "    print(\"ID: {}, Label: {}\".format(class_predicted[0], inv_map[class_predicted[0]]))  \n",
        "    return load_img(path)"
      ]
    },
    {
      "cell_type": "code",
      "execution_count": null,
      "metadata": {
        "id": "DeeLyXL7AMIy"
      },
      "outputs": [],
      "source": [
        "# path = 'data/test/butterears2.jpg'\n",
        "path = '/content/test images/elephant01.jpeg'\n",
        "test_single_image(path)"
      ]
    },
    {
      "cell_type": "code",
      "source": [
        "from google.colab import files\n",
        "\n",
        "uploaded = files.upload()\n",
        "# print(list(uploaded.keys()))\n",
        "bruh = list(uploaded.keys())[0]\n",
        "print('User uploaded file \"{name}\" with length {length} bytes'.format(name=bruh, length=len(uploaded[bruh])))\n",
        "test_single_image(bruh)"
      ],
      "metadata": {
        "colab": {
          "base_uri": "https://localhost:8080/",
          "height": 518
        },
        "id": "wXcEHVp_sJDy",
        "outputId": "a872c22b-ee41-435c-bcd0-577705a23738"
      },
      "execution_count": null,
      "outputs": [
        {
          "output_type": "display_data",
          "data": {
            "text/plain": [
              "<IPython.core.display.HTML object>"
            ],
            "text/html": [
              "\n",
              "     <input type=\"file\" id=\"files-ed42fb2b-5987-4721-839b-80cde3de0af6\" name=\"files[]\" multiple disabled\n",
              "        style=\"border:none\" />\n",
              "     <output id=\"result-ed42fb2b-5987-4721-839b-80cde3de0af6\">\n",
              "      Upload widget is only available when the cell has been executed in the\n",
              "      current browser session. Please rerun this cell to enable.\n",
              "      </output>\n",
              "      <script>// Copyright 2017 Google LLC\n",
              "//\n",
              "// Licensed under the Apache License, Version 2.0 (the \"License\");\n",
              "// you may not use this file except in compliance with the License.\n",
              "// You may obtain a copy of the License at\n",
              "//\n",
              "//      http://www.apache.org/licenses/LICENSE-2.0\n",
              "//\n",
              "// Unless required by applicable law or agreed to in writing, software\n",
              "// distributed under the License is distributed on an \"AS IS\" BASIS,\n",
              "// WITHOUT WARRANTIES OR CONDITIONS OF ANY KIND, either express or implied.\n",
              "// See the License for the specific language governing permissions and\n",
              "// limitations under the License.\n",
              "\n",
              "/**\n",
              " * @fileoverview Helpers for google.colab Python module.\n",
              " */\n",
              "(function(scope) {\n",
              "function span(text, styleAttributes = {}) {\n",
              "  const element = document.createElement('span');\n",
              "  element.textContent = text;\n",
              "  for (const key of Object.keys(styleAttributes)) {\n",
              "    element.style[key] = styleAttributes[key];\n",
              "  }\n",
              "  return element;\n",
              "}\n",
              "\n",
              "// Max number of bytes which will be uploaded at a time.\n",
              "const MAX_PAYLOAD_SIZE = 100 * 1024;\n",
              "\n",
              "function _uploadFiles(inputId, outputId) {\n",
              "  const steps = uploadFilesStep(inputId, outputId);\n",
              "  const outputElement = document.getElementById(outputId);\n",
              "  // Cache steps on the outputElement to make it available for the next call\n",
              "  // to uploadFilesContinue from Python.\n",
              "  outputElement.steps = steps;\n",
              "\n",
              "  return _uploadFilesContinue(outputId);\n",
              "}\n",
              "\n",
              "// This is roughly an async generator (not supported in the browser yet),\n",
              "// where there are multiple asynchronous steps and the Python side is going\n",
              "// to poll for completion of each step.\n",
              "// This uses a Promise to block the python side on completion of each step,\n",
              "// then passes the result of the previous step as the input to the next step.\n",
              "function _uploadFilesContinue(outputId) {\n",
              "  const outputElement = document.getElementById(outputId);\n",
              "  const steps = outputElement.steps;\n",
              "\n",
              "  const next = steps.next(outputElement.lastPromiseValue);\n",
              "  return Promise.resolve(next.value.promise).then((value) => {\n",
              "    // Cache the last promise value to make it available to the next\n",
              "    // step of the generator.\n",
              "    outputElement.lastPromiseValue = value;\n",
              "    return next.value.response;\n",
              "  });\n",
              "}\n",
              "\n",
              "/**\n",
              " * Generator function which is called between each async step of the upload\n",
              " * process.\n",
              " * @param {string} inputId Element ID of the input file picker element.\n",
              " * @param {string} outputId Element ID of the output display.\n",
              " * @return {!Iterable<!Object>} Iterable of next steps.\n",
              " */\n",
              "function* uploadFilesStep(inputId, outputId) {\n",
              "  const inputElement = document.getElementById(inputId);\n",
              "  inputElement.disabled = false;\n",
              "\n",
              "  const outputElement = document.getElementById(outputId);\n",
              "  outputElement.innerHTML = '';\n",
              "\n",
              "  const pickedPromise = new Promise((resolve) => {\n",
              "    inputElement.addEventListener('change', (e) => {\n",
              "      resolve(e.target.files);\n",
              "    });\n",
              "  });\n",
              "\n",
              "  const cancel = document.createElement('button');\n",
              "  inputElement.parentElement.appendChild(cancel);\n",
              "  cancel.textContent = 'Cancel upload';\n",
              "  const cancelPromise = new Promise((resolve) => {\n",
              "    cancel.onclick = () => {\n",
              "      resolve(null);\n",
              "    };\n",
              "  });\n",
              "\n",
              "  // Wait for the user to pick the files.\n",
              "  const files = yield {\n",
              "    promise: Promise.race([pickedPromise, cancelPromise]),\n",
              "    response: {\n",
              "      action: 'starting',\n",
              "    }\n",
              "  };\n",
              "\n",
              "  cancel.remove();\n",
              "\n",
              "  // Disable the input element since further picks are not allowed.\n",
              "  inputElement.disabled = true;\n",
              "\n",
              "  if (!files) {\n",
              "    return {\n",
              "      response: {\n",
              "        action: 'complete',\n",
              "      }\n",
              "    };\n",
              "  }\n",
              "\n",
              "  for (const file of files) {\n",
              "    const li = document.createElement('li');\n",
              "    li.append(span(file.name, {fontWeight: 'bold'}));\n",
              "    li.append(span(\n",
              "        `(${file.type || 'n/a'}) - ${file.size} bytes, ` +\n",
              "        `last modified: ${\n",
              "            file.lastModifiedDate ? file.lastModifiedDate.toLocaleDateString() :\n",
              "                                    'n/a'} - `));\n",
              "    const percent = span('0% done');\n",
              "    li.appendChild(percent);\n",
              "\n",
              "    outputElement.appendChild(li);\n",
              "\n",
              "    const fileDataPromise = new Promise((resolve) => {\n",
              "      const reader = new FileReader();\n",
              "      reader.onload = (e) => {\n",
              "        resolve(e.target.result);\n",
              "      };\n",
              "      reader.readAsArrayBuffer(file);\n",
              "    });\n",
              "    // Wait for the data to be ready.\n",
              "    let fileData = yield {\n",
              "      promise: fileDataPromise,\n",
              "      response: {\n",
              "        action: 'continue',\n",
              "      }\n",
              "    };\n",
              "\n",
              "    // Use a chunked sending to avoid message size limits. See b/62115660.\n",
              "    let position = 0;\n",
              "    do {\n",
              "      const length = Math.min(fileData.byteLength - position, MAX_PAYLOAD_SIZE);\n",
              "      const chunk = new Uint8Array(fileData, position, length);\n",
              "      position += length;\n",
              "\n",
              "      const base64 = btoa(String.fromCharCode.apply(null, chunk));\n",
              "      yield {\n",
              "        response: {\n",
              "          action: 'append',\n",
              "          file: file.name,\n",
              "          data: base64,\n",
              "        },\n",
              "      };\n",
              "\n",
              "      let percentDone = fileData.byteLength === 0 ?\n",
              "          100 :\n",
              "          Math.round((position / fileData.byteLength) * 100);\n",
              "      percent.textContent = `${percentDone}% done`;\n",
              "\n",
              "    } while (position < fileData.byteLength);\n",
              "  }\n",
              "\n",
              "  // All done.\n",
              "  yield {\n",
              "    response: {\n",
              "      action: 'complete',\n",
              "    }\n",
              "  };\n",
              "}\n",
              "\n",
              "scope.google = scope.google || {};\n",
              "scope.google.colab = scope.google.colab || {};\n",
              "scope.google.colab._files = {\n",
              "  _uploadFiles,\n",
              "  _uploadFilesContinue,\n",
              "};\n",
              "})(self);\n",
              "</script> "
            ]
          },
          "metadata": {}
        },
        {
          "output_type": "stream",
          "name": "stdout",
          "text": [
            "Saving download.jpeg to download.jpeg\n",
            "User uploaded file \"download.jpeg\" with length 7231 bytes\n",
            "[INFO] loading and preprocessing image...\n",
            "1/1 [==============================] - 1s 592ms/step\n",
            "1/1 [==============================] - 0s 18ms/step\n",
            "ID: 0, Label: butterflies 61.07%\n",
            "ID: 1, Label: chickens 1.08%\n",
            "ID: 2, Label: elephants 0.02%\n",
            "ID: 3, Label: horses 0.78%\n",
            "ID: 4, Label: spiders 35.33%\n",
            "ID: 5, Label: squirrels 1.72%\n",
            "Final Decision:\n",
            ".\n",
            "..\n",
            "...\n",
            "1/1 [==============================] - 0s 19ms/step\n",
            "ID: 0, Label: butterflies\n"
          ]
        },
        {
          "output_type": "execute_result",
          "data": {
            "text/plain": [
              "<PIL.JpegImagePlugin.JpegImageFile image mode=RGB size=300x168 at 0x7F914D8A44F0>"
            ],
            "image/png": "[encoded data removed]"
          },
          "metadata": {},
          "execution_count": 52
        }
      ]
    }
  ],
  "metadata": {
    "kernelspec": {
      "display_name": "Python 3",
      "language": "python",
      "name": "python3"
    },
    "language_info": {
      "codemirror_mode": {
        "name": "ipython",
        "version": 3
      },
      "file_extension": ".py",
      "mimetype": "text/x-python",
      "name": "python",
      "nbconvert_exporter": "python",
      "pygments_lexer": "ipython3",
      "version": "3.8.10"
    },
    "vscode": {
      "interpreter": {
        "hash": "9ec81b5741290afa0545a4f5062f07e05d97808451c29876a22c76fe0d3ca11f"
      }
    },
    "colab": {
      "provenance": [],
      "collapsed_sections": [
        "Fm7QO8_N5xrh"
      ],
      "include_colab_link": true
    }
  },
  "nbformat": 4,
  "nbformat_minor": 0
}